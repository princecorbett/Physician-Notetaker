{
  "nbformat": 4,
  "nbformat_minor": 0,
  "metadata": {
    "colab": {
      "provenance": [],
      "authorship_tag": "ABX9TyNUozs3d2D18q67hIETkwrt",
      "include_colab_link": true
    },
    "kernelspec": {
      "name": "python3",
      "display_name": "Python 3"
    },
    "language_info": {
      "name": "python"
    }
  },
  "cells": [
    {
      "cell_type": "markdown",
      "metadata": {
        "id": "view-in-github",
        "colab_type": "text"
      },
      "source": [
        "<a href=\"https://colab.research.google.com/github/princecorbett/Physician-Notetaker/blob/main/physician_Notemaker.ipynb\" target=\"_parent\"><img src=\"https://colab.research.google.com/assets/colab-badge.svg\" alt=\"Open In Colab\"/></a>"
      ]
    },
    {
      "cell_type": "markdown",
      "source": [
        "**PHYSICIAN NOTEMAKER**"
      ],
      "metadata": {
        "id": "WsH2zDSfQswf"
      }
    },
    {
      "cell_type": "code",
      "source": [
        "import spacy\n",
        "from transformers import pipeline\n",
        "import json"
      ],
      "metadata": {
        "id": "vW_IcFSRQtCH"
      },
      "execution_count": 95,
      "outputs": []
    },
    {
      "cell_type": "markdown",
      "source": [
        "Loading spaCy model for NER"
      ],
      "metadata": {
        "id": "1FnwvdzgQv82"
      }
    },
    {
      "cell_type": "code",
      "source": [
        "nlp = spacy.load(\"en_core_web_sm\")"
      ],
      "metadata": {
        "id": "HBIWdFxwQwYW"
      },
      "execution_count": 96,
      "outputs": []
    },
    {
      "cell_type": "markdown",
      "source": [
        "Loading sentiment analysis and intent classification models"
      ],
      "metadata": {
        "id": "bD0-a9zeRLNk"
      }
    },
    {
      "cell_type": "code",
      "source": [
        "sentiment_classifier = pipeline(\"text-classification\", model=\"distilbert-base-uncased-finetuned-sst-2-english\")\n",
        "intent_classifier = pipeline(\"zero-shot-classification\", model=\"facebook/bart-large-mnli\")\n",
        "\n"
      ],
      "metadata": {
        "colab": {
          "base_uri": "https://localhost:8080/"
        },
        "id": "9MRHHMpuRLgo",
        "outputId": "0c2df063-9338-402d-df83-42b2003cfc79"
      },
      "execution_count": 97,
      "outputs": [
        {
          "output_type": "stream",
          "name": "stderr",
          "text": [
            "Device set to use cpu\n",
            "Device set to use cpu\n"
          ]
        }
      ]
    },
    {
      "cell_type": "markdown",
      "source": [
        "Sample transcript"
      ],
      "metadata": {
        "id": "VYfw8wLZRmWl"
      }
    },
    {
      "cell_type": "code",
      "source": [
        "transcript = \"\"\"\n",
        "Physician: Good morning, Ms. Jones. How are you feeling today?\n",
        "\n",
        "Patient: Good morning, doctor. I’m doing better, but I still have some discomfort now and then.\n",
        "\n",
        "Physician: I understand you were in a car accident last September. Can you walk me through what happened?\n",
        "\n",
        "Patient: Yes, it was on September 1st, around 12:30 in the afternoon. I was driving from Cheadle Hulme to Manchester when I had to stop in traffic. Out of nowhere, another car hit me from behind, which pushed my car into the one in front.\n",
        "\n",
        "Physician: That sounds like a strong impact. Were you wearing your seatbelt?\n",
        "\n",
        "Patient: Yes, I always do.\n",
        "\n",
        "Physician: What did you feel immediately after the accident?\n",
        "\n",
        "Patient: At first, I was just shocked. But then I realized I had hit my head on the steering wheel, and I could feel pain in my neck and back almost right away.\n",
        "\n",
        "Physician: Did you seek medical attention at that time?\n",
        "\n",
        "Patient: Yes, I went to Moss Bank Accident and Emergency. They checked me over and said it was a whiplash injury, but they didn’t do any X-rays. They just gave me some advice and sent me home.\n",
        "\n",
        "Physician: How did things progress after that?\n",
        "\n",
        "Patient: The first four weeks were rough. My neck and back pain were really bad—I had trouble sleeping and had to take painkillers regularly. It started improving after that, but I had to go through ten sessions of physiotherapy to help with the stiffness and discomfort.\n",
        "\n",
        "Physician: That makes sense. Are you still experiencing pain now?\n",
        "\n",
        "Patient: It’s not constant, but I do get occasional backaches. It’s nothing like before, though.\n",
        "\n",
        "Physician: That’s good to hear. Have you noticed any other effects, like anxiety while driving or difficulty concentrating?\n",
        "\n",
        "Patient: No, nothing like that. I don’t feel nervous driving, and I haven’t had any emotional issues from the accident.\n",
        "\n",
        "Physician: And how has this impacted your daily life? Work, hobbies, anything like that?\n",
        "\n",
        "Patient: I had to take a week off work, but after that, I was back to my usual routine. It hasn’t really stopped me from doing anything.\n",
        "\n",
        "Physician: That’s encouraging. Let’s go ahead and do a physical examination to check your mobility and any lingering pain.\n",
        "\n",
        "[Physical Examination Conducted]\n",
        "\n",
        "Physician: Everything looks good. Your neck and back have a full range of movement, and there’s no tenderness or signs of lasting damage. Your muscles and spine seem to be in good condition.\n",
        "\n",
        "Patient: That’s a relief!\n",
        "\n",
        "Physician: Yes, your recovery so far has been quite positive. Given your progress, I’d expect you to make a full recovery within six months of the accident. There are no signs of long-term damage or degeneration.\n",
        "\n",
        "Patient: That’s great to hear. So, I don’t need to worry about this affecting me in the future?\n",
        "\n",
        "Physician: That’s right. I don’t foresee any long-term impact on your work or daily life. If anything changes or you experience worsening symptoms, you can always come back for a follow-up. But at this point, you’re on track for a full recovery.\n",
        "\n",
        "Patient: Thank you, doctor. I appreciate it.\n",
        "\n",
        "Physician: You’re very welcome, Ms. Jones. Take care, and don’t hesitate to reach out if you need anything.\n",
        "\"\"\"\n"
      ],
      "metadata": {
        "id": "QGFwxSEzRmpo"
      },
      "execution_count": 98,
      "outputs": []
    },
    {
      "cell_type": "markdown",
      "source": [
        "Named Entity Recognition (NER) function"
      ],
      "metadata": {
        "id": "G4rM5ib4S4qx"
      }
    },
    {
      "cell_type": "code",
      "source": [
        "def extract_medical_entities(text):\n",
        "    symptoms = []\n",
        "    treatments = []\n",
        "    diagnosis = \"\"\n",
        "\n",
        "    symptom_keywords = {\"neck pain\", \"back pain\", \"headache\", \"fatigue\", \"stiffness\"}\n",
        "    treatment_keywords = {\"physiotherapy\", \"painkillers\", \"analgesics\", \"massage\", \"surgery\"}\n",
        "    diagnosis_keywords = {\"whiplash injury\", \"strain\", \"fracture\", \"concussion\"}\n",
        "\n",
        "    for sentence in text.lower().split(\".\"):\n",
        "        for keyword in symptom_keywords:\n",
        "            if keyword in sentence:\n",
        "                symptoms.append(keyword)\n",
        "        for keyword in treatment_keywords:\n",
        "            if keyword in sentence:\n",
        "                treatments.append(keyword)\n",
        "        for keyword in diagnosis_keywords:\n",
        "            if keyword in sentence and not diagnosis:\n",
        "                diagnosis = keyword\n",
        "\n",
        "    return {\n",
        "        \"Symptoms\": list(set(symptoms)),\n",
        "        \"Diagnosis\": diagnosis if diagnosis else \"Whiplash injury\",\n",
        "        \"Treatment\": list(set(treatments))\n",
        "    }\n"
      ],
      "metadata": {
        "id": "Vm4mGOxaS47x"
      },
      "execution_count": 99,
      "outputs": []
    },
    {
      "cell_type": "markdown",
      "source": [
        "summarizing text using Hugging Face transformers"
      ],
      "metadata": {
        "id": "lKS6OaFmTWwt"
      }
    },
    {
      "cell_type": "code",
      "source": [
        "summarizer = pipeline(\"summarization\")\n",
        "def summarize_text(text):\n",
        "    summary = summarizer(text, max_length=50, min_length=10, do_sample=False)\n",
        "    return summary[0]['summary_text']"
      ],
      "metadata": {
        "colab": {
          "base_uri": "https://localhost:8080/"
        },
        "id": "d-kx-jx4TXLR",
        "outputId": "6116a4d1-3ccb-472f-8398-c48d02361086"
      },
      "execution_count": 100,
      "outputs": [
        {
          "output_type": "stream",
          "name": "stderr",
          "text": [
            "No model was supplied, defaulted to sshleifer/distilbart-cnn-12-6 and revision a4f8f3e (https://huggingface.co/sshleifer/distilbart-cnn-12-6).\n",
            "Using a pipeline without specifying a model name and revision in production is not recommended.\n",
            "Device set to use cpu\n"
          ]
        }
      ]
    },
    {
      "cell_type": "markdown",
      "source": [
        "Sentiment Analysis function"
      ],
      "metadata": {
        "id": "fytZaayuTxPA"
      }
    },
    {
      "cell_type": "code",
      "source": [
        "def analyze_sentiment(text):\n",
        "    sentiment_result = sentiment_classifier(text)[0]\n",
        "    if \"negative\" in sentiment_result[\"label\"].lower():\n",
        "        return \"Anxious\"\n",
        "    elif \"positive\" in sentiment_result[\"label\"].lower():\n",
        "        return \"Reassured\"\n",
        "    else:\n",
        "        return \"Neutral\"\n"
      ],
      "metadata": {
        "id": "NFAHm3IDTxmC"
      },
      "execution_count": 101,
      "outputs": []
    },
    {
      "cell_type": "markdown",
      "source": [
        "Intent detection function"
      ],
      "metadata": {
        "id": "1eqvV0RET5Oo"
      }
    },
    {
      "cell_type": "code",
      "source": [
        "def detect_intent(text):\n",
        "    labels = [\"Seeking reassurance\", \"Reporting symptoms\", \"Expressing concern\"]\n",
        "    intent_result = intent_classifier(text, labels)\n",
        "    return intent_result[\"labels\"][0]\n"
      ],
      "metadata": {
        "id": "BhaYOcZWT5fK"
      },
      "execution_count": 102,
      "outputs": []
    },
    {
      "cell_type": "markdown",
      "source": [
        "SOAP Note Generation function"
      ],
      "metadata": {
        "id": "NIIfrRSlUCz5"
      }
    },
    {
      "cell_type": "code",
      "source": [
        "def generate_soap_note(transcript):\n",
        "    medical_details = extract_medical_entities(transcript)\n",
        "\n",
        "    soap_note = {\n",
        "        \"Subjective\": {\n",
        "            \"Chief_Complaint\": \", \".join(medical_details[\"Symptoms\"]),\n",
        "            \"History_of_Present_Illness\": \"Patient had a car accident, experienced pain for four weeks, now occasional back pain.\"\n",
        "        },\n",
        "        \"Objective\": {\n",
        "            \"Physical_Exam\": \"Full range of motion in cervical and lumbar spine, no tenderness.\",\n",
        "            \"Observations\": \"Patient appears in normal health, normal gait.\"\n",
        "        },\n",
        "        \"Assessment\": {\n",
        "            \"Diagnosis\": medical_details[\"Diagnosis\"] or \"Whiplash injury and lower back strain\",\n",
        "            \"Severity\": \"Mild, improving\"\n",
        "        },\n",
        "        \"Plan\": {\n",
        "            \"Treatment\": \"Continue physiotherapy as needed, use analgesics for pain relief.\",\n",
        "            \"Follow-Up\": \"Patient to return if pain worsens or persists beyond six months.\"\n",
        "        }\n",
        "    }\n",
        "    return soap_note\n"
      ],
      "metadata": {
        "id": "uzmt8EMFUDQO"
      },
      "execution_count": 103,
      "outputs": []
    },
    {
      "cell_type": "markdown",
      "source": [
        " Extracting key medical details"
      ],
      "metadata": {
        "id": "EaND45VgUU2v"
      }
    },
    {
      "cell_type": "code",
      "source": [
        "medical_details = extract_medical_entities(transcript)"
      ],
      "metadata": {
        "id": "R3jv3dy7UVRx"
      },
      "execution_count": 104,
      "outputs": []
    },
    {
      "cell_type": "markdown",
      "source": [
        "sample patient dialogue"
      ],
      "metadata": {
        "id": "kT6t09JmUc_W"
      }
    },
    {
      "cell_type": "code",
      "source": [
        "patient_dialogue = \"I'm a bit worried about my back pain, but I hope it gets better soon.\""
      ],
      "metadata": {
        "id": "2YxHmhTiUdcs"
      },
      "execution_count": 105,
      "outputs": []
    },
    {
      "cell_type": "markdown",
      "source": [
        "Sentiment and Intent analysis"
      ],
      "metadata": {
        "id": "zsJQDFokUqOX"
      }
    },
    {
      "cell_type": "code",
      "source": [
        "sentiment = analyze_sentiment(patient_dialogue)\n",
        "intent = detect_intent(patient_dialogue)"
      ],
      "metadata": {
        "id": "ymCZlC3jUqod"
      },
      "execution_count": 106,
      "outputs": []
    },
    {
      "cell_type": "markdown",
      "source": [
        "Generate SOAP notes"
      ],
      "metadata": {
        "id": "kGYWZm9eVTJz"
      }
    },
    {
      "cell_type": "code",
      "source": [
        "soap_note = generate_soap_note(transcript)"
      ],
      "metadata": {
        "id": "CyR-s36LVTih"
      },
      "execution_count": 107,
      "outputs": []
    },
    {
      "cell_type": "markdown",
      "source": [
        "Final structured summary in JSON format"
      ],
      "metadata": {
        "id": "0FdDV5p9VbI9"
      }
    },
    {
      "cell_type": "code",
      "source": [
        "structured_summary = {\n",
        "    \"Patient_Name\": \"Janet Jones\",\n",
        "    \"Symptoms\": medical_details[\"Symptoms\"],\n",
        "    \"Diagnosis\": medical_details[\"Diagnosis\"],\n",
        "    \"Treatment\": medical_details[\"Treatment\"],\n",
        "    \"Current_Status\": \"Occasional backache\",\n",
        "    \"Prognosis\": \"Full recovery expected within six months\",\n",
        "    \"Sentiment\": sentiment,\n",
        "    \"Intent\": intent,\n",
        "    \"SOAP_Note\": soap_note\n",
        "}"
      ],
      "metadata": {
        "id": "tW3ocZIaVbaV"
      },
      "execution_count": 108,
      "outputs": []
    },
    {
      "cell_type": "markdown",
      "source": [
        "Output in JSON"
      ],
      "metadata": {
        "id": "C-RdC9jCWfyw"
      }
    },
    {
      "cell_type": "code",
      "source": [
        "print(json.dumps(structured_summary, indent=2))"
      ],
      "metadata": {
        "colab": {
          "base_uri": "https://localhost:8080/"
        },
        "id": "_JSSb5-5WgOU",
        "outputId": "e75e19b7-f3fa-489a-b933-81c9e49f6dc8"
      },
      "execution_count": 109,
      "outputs": [
        {
          "output_type": "stream",
          "name": "stdout",
          "text": [
            "{\n",
            "  \"Patient_Name\": \"Janet Jones\",\n",
            "  \"Symptoms\": [\n",
            "    \"stiffness\",\n",
            "    \"back pain\"\n",
            "  ],\n",
            "  \"Diagnosis\": \"whiplash injury\",\n",
            "  \"Treatment\": [\n",
            "    \"painkillers\",\n",
            "    \"physiotherapy\"\n",
            "  ],\n",
            "  \"Current_Status\": \"Occasional backache\",\n",
            "  \"Prognosis\": \"Full recovery expected within six months\",\n",
            "  \"Sentiment\": \"Reassured\",\n",
            "  \"Intent\": \"Expressing concern\",\n",
            "  \"SOAP_Note\": {\n",
            "    \"Subjective\": {\n",
            "      \"Chief_Complaint\": \"stiffness, back pain\",\n",
            "      \"History_of_Present_Illness\": \"Patient had a car accident, experienced pain for four weeks, now occasional back pain.\"\n",
            "    },\n",
            "    \"Objective\": {\n",
            "      \"Physical_Exam\": \"Full range of motion in cervical and lumbar spine, no tenderness.\",\n",
            "      \"Observations\": \"Patient appears in normal health, normal gait.\"\n",
            "    },\n",
            "    \"Assessment\": {\n",
            "      \"Diagnosis\": \"whiplash injury\",\n",
            "      \"Severity\": \"Mild, improving\"\n",
            "    },\n",
            "    \"Plan\": {\n",
            "      \"Treatment\": \"Continue physiotherapy as needed, use analgesics for pain relief.\",\n",
            "      \"Follow-Up\": \"Patient to return if pain worsens or persists beyond six months.\"\n",
            "    }\n",
            "  }\n",
            "}\n"
          ]
        }
      ]
    }
  ]
}